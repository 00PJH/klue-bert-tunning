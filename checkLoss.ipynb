{
 "cells": [
  {
   "cell_type": "code",
   "execution_count": null,
   "metadata": {},
   "outputs": [],
   "source": [
    "import matplotlib.pyplot as plt\n",
    "import pandas as pd\n",
    "\n",
    "# Load the training stats\n",
    "stats_df = pd.read_csv(\"training_stats.csv\")\n",
    "\n",
    "# Plot the loss and accuracy\n",
    "fig, axs = plt.subplots(2, 1, figsize=(10, 8))\n",
    "\n",
    "# Plot training & validation loss\n",
    "axs[0].plot(stats_df['epoch'], stats_df['Training Loss'], label='Training Loss')\n",
    "axs[0].plot(stats_df['epoch'], stats_df['Valid. Loss'], label='Validation Loss')\n",
    "axs[0].set_title('Training and Validation Loss')\n",
    "axs[0].set_xlabel('Epoch')\n",
    "axs[0].set_ylabel('Loss')\n",
    "axs[0].legend()\n",
    "\n",
    "# Plot validation accuracy\n",
    "axs[1].plot(stats_df['epoch'], stats_df['Valid. Accur.'], label='Validation Accuracy')\n",
    "axs[1].set_title('Validation Accuracy')\n",
    "axs[1].set_xlabel('Epoch')\n",
    "axs[1].set_ylabel('Accuracy')\n",
    "axs[1].legend()\n",
    "\n",
    "# Show the plots\n",
    "plt.tight_layout()\n",
    "plt.show()\n"
   ]
  }
 ],
 "metadata": {
  "language_info": {
   "name": "python"
  }
 },
 "nbformat": 4,
 "nbformat_minor": 2
}
